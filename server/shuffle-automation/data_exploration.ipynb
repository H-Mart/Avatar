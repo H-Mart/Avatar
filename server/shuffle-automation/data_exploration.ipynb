{
 "cells": [
  {
   "cell_type": "code",
   "execution_count": 1,
   "id": "initial_id",
   "metadata": {
    "collapsed": true,
    "ExecuteTime": {
     "end_time": "2024-02-17T23:26:24.931250700Z",
     "start_time": "2024-02-17T23:26:21.600043Z"
    }
   },
   "outputs": [
    {
     "name": "stderr",
     "output_type": "stream",
     "text": [
      "bash: warning: setlocale: LC_ALL: cannot change locale (en_US.UTF-8)\n",
      "bash: warning: setlocale: LC_ALL: cannot change locale (en_US.UTF-8)\n"
     ]
    },
    {
     "name": "stdout",
     "output_type": "stream",
     "text": [
      "24/02/17 17:26:22 WARN Utils: Your hostname, Henry-Desktop resolves to a loopback address: 127.0.1.1; using 172.20.208.84 instead (on interface eth0)\n",
      "24/02/17 17:26:22 WARN Utils: Set SPARK_LOCAL_IP if you need to bind to another address\n",
      ":: loading settings :: url = jar:file:/home/henry/anaconda3/envs/BCI/lib/python3.11/site-packages/pyspark/jars/ivy-2.5.1.jar!/org/apache/ivy/core/settings/ivysettings.xml\n"
     ]
    },
    {
     "name": "stderr",
     "output_type": "stream",
     "text": [
      "Ivy Default Cache set to: /home/henry/.ivy2/cache\n",
      "The jars for the packages stored in: /home/henry/.ivy2/jars\n",
      "io.delta#delta-core_2.12 added as a dependency\n",
      ":: resolving dependencies :: org.apache.spark#spark-submit-parent-64ce047f-71df-42a6-9b36-3ff681eef771;1.0\n",
      "\tconfs: [default]\n",
      "\tfound io.delta#delta-core_2.12;2.3.0 in central\n",
      "\tfound io.delta#delta-storage;2.3.0 in central\n",
      "\tfound org.antlr#antlr4-runtime;4.8 in central\n",
      ":: resolution report :: resolve 76ms :: artifacts dl 3ms\n",
      "\t:: modules in use:\n",
      "\tio.delta#delta-core_2.12;2.3.0 from central in [default]\n",
      "\tio.delta#delta-storage;2.3.0 from central in [default]\n",
      "\torg.antlr#antlr4-runtime;4.8 from central in [default]\n",
      "\t---------------------------------------------------------------------\n",
      "\t|                  |            modules            ||   artifacts   |\n",
      "\t|       conf       | number| search|dwnlded|evicted|| number|dwnlded|\n",
      "\t---------------------------------------------------------------------\n",
      "\t|      default     |   3   |   0   |   0   |   0   ||   3   |   0   |\n",
      "\t---------------------------------------------------------------------\n",
      ":: retrieving :: org.apache.spark#spark-submit-parent-64ce047f-71df-42a6-9b36-3ff681eef771\n",
      "\tconfs: [default]\n",
      "\t0 artifacts copied, 3 already retrieved (0kB/3ms)\n"
     ]
    },
    {
     "name": "stdout",
     "output_type": "stream",
     "text": [
      "24/02/17 17:26:23 WARN NativeCodeLoader: Unable to load native-hadoop library for your platform... using builtin-java classes where applicable\n"
     ]
    },
    {
     "name": "stderr",
     "output_type": "stream",
     "text": [
      "Setting default log level to \"WARN\".\n",
      "To adjust logging level use sc.setLogLevel(newLevel). For SparkR, use setLogLevel(newLevel).\n"
     ]
    }
   ],
   "source": [
    "import pyspark\n",
    "from delta import *\n",
    "from pyspark.sql.functions import lit\n",
    "\n",
    "builder = pyspark.sql.SparkSession.builder.appName(\"MyApp\") \\\n",
    "    .config(\"spark.sql.extensions\", \"io.delta.sql.DeltaSparkSessionExtension\") \\\n",
    "    .config(\"spark.sql.catalog.spark_catalog\", \"org.apache.spark.sql.delta.catalog.DeltaCatalog\") \\\n",
    "    .config('spark.network.timeout', '800s') \\\n",
    "    .config(\"spark.executor.memory\", \"8g\") \\\n",
    "    .config(\"spark.driver.memory\", \"8g\")\n",
    "\n",
    "spark = configure_spark_with_delta_pip(builder).getOrCreate()"
   ]
  },
  {
   "cell_type": "code",
   "outputs": [],
   "source": [
    "pathGlobFilter = '*.csv'\n",
    "\n",
    "takeoff = spark.read.options(delimiter=',').csv(\n",
    "    \"data/takeoff\", inferSchema=True, pathGlobFilter=pathGlobFilter, header=True)\n",
    "landdf = spark.read.options(delimiter=',').csv(\n",
    "    \"data/land\", inferSchema=True, pathGlobFilter=pathGlobFilter, header=True)\n",
    "leftdf = spark.read.options(delimiter=',').csv(\n",
    "    \"data/left\", inferSchema=True, pathGlobFilter=pathGlobFilter, header=True)\n",
    "rightdf = spark.read.options(delimiter=',').csv(\n",
    "    \"data/right\", inferSchema=True, pathGlobFilter=pathGlobFilter, header=True)\n",
    "forward = spark.read.options(delimiter=',').csv(\n",
    "    \"data/forward\", inferSchema=True, pathGlobFilter=pathGlobFilter, header=True)\n",
    "backward = spark.read.options(delimiter=',').csv(\n",
    "    \"data/backward\", inferSchema=True, pathGlobFilter=pathGlobFilter, header=True)"
   ],
   "metadata": {
    "collapsed": false,
    "ExecuteTime": {
     "end_time": "2024-02-17T23:29:45.788692Z",
     "start_time": "2024-02-17T23:29:41.090419Z"
    }
   },
   "id": "221177ff8b313020",
   "execution_count": 14
  },
  {
   "cell_type": "code",
   "outputs": [],
   "source": [],
   "metadata": {
    "collapsed": false,
    "ExecuteTime": {
     "end_time": "2024-02-17T23:26:28.068738300Z",
     "start_time": "2024-02-17T23:26:28.063086700Z"
    }
   },
   "id": "9641aeec3f6a816",
   "execution_count": 2
  },
  {
   "cell_type": "code",
   "outputs": [
    {
     "data": {
      "text/plain": "[('Sample Index', 'double'),\n (' EXG Channel 0', 'double'),\n (' EXG Channel 1', 'double'),\n (' EXG Channel 2', 'double'),\n (' EXG Channel 3', 'double'),\n (' EXG Channel 4', 'double'),\n (' EXG Channel 5', 'double'),\n (' EXG Channel 6', 'double'),\n (' EXG Channel 7', 'double'),\n (' EXG Channel 8', 'double'),\n (' EXG Channel 9', 'double'),\n (' EXG Channel 10', 'double'),\n (' EXG Channel 11', 'double'),\n (' EXG Channel 12', 'double'),\n (' EXG Channel 13', 'double'),\n (' EXG Channel 14', 'double'),\n (' EXG Channel 15', 'double'),\n (' Accel Channel 0', 'double'),\n (' Accel Channel 1', 'double'),\n (' Accel Channel 2', 'double'),\n (' Other', 'double'),\n (' Other.1', 'double'),\n (' Other.2', 'double'),\n (' Other.3', 'double'),\n (' Other.4', 'double'),\n (' Other.5', 'double'),\n (' Other.6', 'double'),\n (' Analog Channel 0', 'double'),\n (' Analog Channel 1', 'double'),\n (' Analog Channel 2', 'double'),\n (' Timestamp', 'double'),\n (' Other.7', 'double'),\n (' Timestamp (Formatted)', 'timestamp')]"
     },
     "execution_count": 13,
     "metadata": {},
     "output_type": "execute_result"
    }
   ],
   "source": [
    "takeoff.dtypes"
   ],
   "metadata": {
    "collapsed": false,
    "ExecuteTime": {
     "end_time": "2024-02-17T23:28:57.814928500Z",
     "start_time": "2024-02-17T23:28:57.771818Z"
    }
   },
   "id": "56befe52cbe26c13",
   "execution_count": 13
  },
  {
   "cell_type": "code",
   "outputs": [
    {
     "data": {
      "text/plain": "[Row(Sample Index='248.0',  EXG Channel 0='25668.56451851899',  EXG Channel 1='12112.142099397432',  EXG Channel 2='-35910.67026980761',  EXG Channel 3='-62853.4853879792',  EXG Channel 4='-187500.02235174447',  EXG Channel 5='9056.591577123592',  EXG Channel 6='-187500.02235174447',  EXG Channel 7='-187500.02235174447',  EXG Channel 8='-37559.67021699789',  EXG Channel 9='6519.512119235053',  EXG Channel 10='-7719.420816829303',  EXG Channel 11='-70088.20862629516',  EXG Channel 12='5340.949337595623',  EXG Channel 13='-19259.648830848797',  EXG Channel 14='-5931.728295293844',  EXG Channel 15='4260.0189757369735',  Accel Channel 0='0.0',  Accel Channel 1='0.0',  Accel Channel 2='0.0',  Other='192.0',  Other.1='0.0',  Other.2='0.0',  Other.3='0.0',  Other.4='0.0',  Other.5='0.0',  Other.6='0.0',  Analog Channel 0='0.0',  Analog Channel 1='0.0',  Analog Channel 2='0.0',  Timestamp='1695418029.478212',  Other.7='0.0',  Timestamp (Formatted)=' 2023-09-22 16:27:09.478'),\n Row(Sample Index='250.0',  EXG Channel 0='25685.730658260665',  EXG Channel 1='12129.867032750491',  EXG Channel 2='-35885.85983346222',  EXG Channel 3='-62830.75366386816',  EXG Channel 4='-187500.02235174447',  EXG Channel 5='9000.891029940967',  EXG Channel 6='-187500.02235174447',  EXG Channel 7='-187500.02235174447',  EXG Channel 8='-37531.14939107292',  EXG Channel 9='6550.469285305654',  EXG Channel 10='-7761.173875471816',  EXG Channel 11='-70060.67127712622',  EXG Channel 12='5353.667480190692',  EXG Channel 13='-19291.030680064046',  EXG Channel 14='-5937.807969785687',  EXG Channel 15='4217.751826971988',  Accel Channel 0='0.0',  Accel Channel 1='0.0',  Accel Channel 2='0.0',  Other='192.0',  Other.1='0.0',  Other.2='0.0',  Other.3='0.0',  Other.4='0.0',  Other.5='0.0',  Other.6='0.0',  Analog Channel 0='0.0',  Analog Channel 1='0.0',  Analog Channel 2='0.0',  Timestamp='1695418029.478221',  Other.7='0.0',  Timestamp (Formatted)=' 2023-09-22 16:27:09.478')]"
     },
     "execution_count": 11,
     "metadata": {},
     "output_type": "execute_result"
    }
   ],
   "source": [
    "takeoff.head(2)"
   ],
   "metadata": {
    "collapsed": false,
    "ExecuteTime": {
     "end_time": "2024-02-17T23:28:49.613351300Z",
     "start_time": "2024-02-17T23:28:49.523327600Z"
    }
   },
   "id": "827fbcd3dae54d6d",
   "execution_count": 11
  }
 ],
 "metadata": {
  "kernelspec": {
   "display_name": "Python 3",
   "language": "python",
   "name": "python3"
  },
  "language_info": {
   "codemirror_mode": {
    "name": "ipython",
    "version": 2
   },
   "file_extension": ".py",
   "mimetype": "text/x-python",
   "name": "python",
   "nbconvert_exporter": "python",
   "pygments_lexer": "ipython2",
   "version": "2.7.6"
  }
 },
 "nbformat": 4,
 "nbformat_minor": 5
}
