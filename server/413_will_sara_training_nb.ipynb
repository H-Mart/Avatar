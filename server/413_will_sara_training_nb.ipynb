{
 "cells": [
  {
   "cell_type": "markdown",
   "id": "9b9ee8de-4bea-4af0-951e-b1fa8d84dba6",
   "metadata": {
    "jp-MarkdownHeadingCollapsed": true,
    "tags": []
   },
   "source": [
    "## Import from GCS with Pandas "
   ]
  },
  {
   "cell_type": "code",
   "execution_count": null,
   "id": "19612a18-8450-4a2e-a3d1-716f34287193",
   "metadata": {
    "tags": []
   },
   "outputs": [],
   "source": [
    "import tensorflow as tf\n",
    "print(tf.version.VERSION)"
   ]
  },
  {
   "cell_type": "code",
   "execution_count": null,
   "id": "7361603a-9fcb-4455-ac6f-cfe6b9fb85fd",
   "metadata": {
    "tags": []
   },
   "outputs": [],
   "source": [
    "!pip install google-cloud-storage"
   ]
  },
  {
   "cell_type": "code",
   "execution_count": null,
   "id": "f324bfe0-7201-41c0-9a90-6d8085a6cce8",
   "metadata": {
    "tags": []
   },
   "outputs": [],
   "source": [
    "!pip install gcsfs"
   ]
  },
  {
   "cell_type": "code",
   "execution_count": null,
   "id": "b8331a42-b33c-4243-aea2-667c6b12be24",
   "metadata": {
    "tags": []
   },
   "outputs": [],
   "source": [
    "import os\n",
    "from google.cloud import storage\n",
    "import pandas as pd\n",
    "  \n",
    "# create an Empty DataFrame object\n",
    "df = pd.DataFrame()\n",
    "temp_df = pd.DataFrame()\n",
    "os.environ[\"GOOGLE_APPLICATION_CREDENTIALS\"] = \"/home/jovyan/notebooks/flawless-shard-380118-6483865e92cb.json\"\n",
    "bucket_name = \"bci_bucket\"\n",
    "\n",
    "# def list_blobs_with_prefix(bucket_name, prefix,delimiter=None):\n",
    "storage_client = storage.Client() \n",
    "blobs = storage_client.list_blobs(bucket_name,prefix='data/',delimiter=None)\n",
    "\n",
    "# init empty pdf\n",
    "# df = pd.read_csv('gcs://your-bucket/path/data.csv.gz',\n",
    "#                  storage_options={\"token\": \"credentials.json\"})\n",
    "#add col label\n",
    "\n",
    "# updf = spark.read.options(delimiter='\\t').csv(\"gs://bci_bucket/data/up\", inferSchema='false')\n",
    "\n",
    "for b in blobs:\n",
    "    label_value = os.path.split(b.name)[0]\n",
    "    label_value = os.path.split(label_value)[1]\n",
    "    \n",
    "    temp_df = pd.read_csv(f\"gs://bci_bucket/data/{label_value}/*.csv\", sep='\\t',\n",
    "                     storage_options={\"token\": '/home/jovyan/notebooks/flawless-shard-380118-6483865e92cb.json'})\n",
    "    df = pd.concat([df, temp_df])\n",
    "    \n",
    "    #into dataframe append b from gcs // tab delim\n",
    "    #add label_value to col label\n",
    "        \n",
    "        # list_label.append(label_value)"
   ]
  },
  {
   "cell_type": "code",
   "execution_count": null,
   "id": "aee3cef6-a6aa-4633-a9cb-38a93294ea2d",
   "metadata": {},
   "outputs": [],
   "source": [
    "print(df.head(3))\n",
    "print(df.shape)"
   ]
  },
  {
   "cell_type": "code",
   "execution_count": null,
   "id": "36b56afb-10db-4d55-b87b-dd66dda3791d",
   "metadata": {
    "tags": []
   },
   "outputs": [],
   "source": [
    "import pandas as pd\n",
    "col = []\n",
    "for x in range (0, 32):\n",
    "    x = f'_c{x}'\n",
    "    col.append(x)\n",
    "df = pd.DataFrame(columns=col)"
   ]
  },
  {
   "cell_type": "code",
   "execution_count": null,
   "id": "f78644ca-8f71-489f-91ae-04f7ef3e689e",
   "metadata": {
    "tags": []
   },
   "outputs": [],
   "source": [
    "testdf = pd.read_csv(\"/home/jovyan/notebooks/BrainFlow-RAW_Recordings_takeoff_4.csv\", sep='\\t', header=0, index_col=None)"
   ]
  },
  {
   "cell_type": "code",
   "execution_count": null,
   "id": "aeb8096c-8ac7-4d13-8d60-04bf20261668",
   "metadata": {
    "tags": []
   },
   "outputs": [],
   "source": [
    "testdf.head(2)"
   ]
  },
  {
   "cell_type": "code",
   "execution_count": null,
   "id": "57950d82-7166-4d5c-858e-495a6810382e",
   "metadata": {
    "tags": []
   },
   "outputs": [],
   "source": [
    "pd.concat([df, testdf])"
   ]
  },
  {
   "cell_type": "markdown",
   "id": "d1f068b2-d1fc-4e22-bb82-2804e8a4bfc7",
   "metadata": {
    "tags": []
   },
   "source": [
    "## Import From GCS with Spark"
   ]
  },
  {
   "cell_type": "code",
   "execution_count": null,
   "id": "466bb42a-6050-48db-87b5-66dc53071214",
   "metadata": {
    "tags": []
   },
   "outputs": [],
   "source": [
    "!pip install delta-spark==2.3.0"
   ]
  },
  {
   "cell_type": "code",
   "execution_count": null,
   "id": "06adaf48-9300-42a5-8b03-63cfe328aa52",
   "metadata": {
    "tags": []
   },
   "outputs": [],
   "source": [
    "import pyspark\n",
    "from delta import *\n",
    "from pyspark.sql.functions import lit\n",
    "builder = pyspark.sql.SparkSession.builder.appName(\"MyApp\") \\\n",
    "    .config(\"spark.sql.extensions\", \"io.delta.sql.DeltaSparkSessionExtension\") \\\n",
    "    .config(\"spark.sql.catalog.spark_catalog\", \"org.apache.spark.sql.delta.catalog.DeltaCatalog\")\\\n",
    "    .config(\"google.cloud.auth.service.account.json.keyfile\", \"/home/jovyan/notebooks/flawless-shard-380118-6483865e92cb.json\")\n",
    "\n",
    "spark = configure_spark_with_delta_pip(builder).getOrCreate()"
   ]
  },
  {
   "cell_type": "markdown",
   "id": "594266fb-44a5-4226-80e3-9dfebf9485d1",
   "metadata": {
    "tags": []
   },
   "source": [
    "#### Writing to Delta lake"
   ]
  },
  {
   "cell_type": "code",
   "execution_count": null,
   "id": "4cc5c8c3-6d2d-463a-ad72-c49ca9cf0565",
   "metadata": {
    "tags": []
   },
   "outputs": [],
   "source": [
    "updf = spark.read.options(delimiter='\\t').csv(\"gs://bci_bucket/data/up\", inferSchema='true')\n",
    "takeoff = spark.read.options(delimiter='\\t').csv(\"gs://bci_bucket/data/takeoff\", inferSchema='true')\n",
    "landdf = spark.read.options(delimiter='\\t').csv(\"gs://bci_bucket/data/land\", inferSchema='true')\n",
    "downdf = spark.read.options(delimiter='\\t').csv(\"gs://bci_bucket/data/down\", inferSchema='true')\n",
    "leftdf = spark.read.options(delimiter='\\t').csv(\"gs://bci_bucket/data/left\", inferSchema='true')\n",
    "rightdf = spark.read.options(delimiter='\\t').csv(\"gs://bci_bucket/data/right\", inferSchema='true')\n",
    "forward = spark.read.options(delimiter='\\t').csv(\"gs://bci_bucket/data/forward\", inferSchema='true')\n",
    "backward = spark.read.options(delimiter='\\t').csv(\"gs://bci_bucket/data/backward\", inferSchema='true')"
   ]
  },
  {
   "cell_type": "code",
   "execution_count": null,
   "id": "42d71d0c-fc09-451f-b156-77cfe425f477",
   "metadata": {
    "tags": []
   },
   "outputs": [],
   "source": [
    "updf = updf.withColumn(\"label\", lit(\"up\"))\n",
    "takeoff = takeoff.withColumn(\"label\", lit(\"takeoff\"))\n",
    "landdf = landdf.withColumn(\"label\", lit(\"land\"))\n",
    "downdf = downdf.withColumn(\"label\", lit(\"down\"))\n",
    "leftdf = leftdf.withColumn(\"label\", lit(\"left\"))\n",
    "rightdf = rightdf.withColumn(\"label\", lit(\"right\"))\n",
    "forward = forward.withColumn(\"label\", lit(\"forward\"))\n",
    "backward = backward.withColumn(\"label\", lit(\"backward\"))"
   ]
  },
  {
   "cell_type": "code",
   "execution_count": null,
   "id": "cf2649fb-dd8e-40ac-9274-ffd9f52ce77b",
   "metadata": {
    "tags": []
   },
   "outputs": [],
   "source": [
    "df = updf.union(takeoff)\n",
    "df = df.union(landdf)\n",
    "df = df.union(downdf)\n",
    "df = df.union(leftdf)\n",
    "df = df.union(rightdf)\n",
    "df = df.union(forward)\n",
    "df = df.union(backward)"
   ]
  },
  {
   "cell_type": "code",
   "execution_count": null,
   "id": "7fc954bb-be57-402f-87bc-225fc329f268",
   "metadata": {
    "tags": []
   },
   "outputs": [],
   "source": [
    "df.write \\\n",
    "  .format(\"delta\") \\\n",
    "  .mode(\"overwrite\") \\\n",
    "  .save(\"gs://bci_bucket/delta-table-data/\")"
   ]
  },
  {
   "cell_type": "code",
   "execution_count": null,
   "id": "7c31d12e-e6d5-4e62-81aa-0858828092c9",
   "metadata": {
    "tags": []
   },
   "outputs": [],
   "source": [
    "df1 = spark.read.format(\"delta\").load(\"gs://bci_bucket/delta-table-data/\")"
   ]
  },
  {
   "cell_type": "markdown",
   "id": "61a783e9-f183-4fbb-b630-35e133eaec40",
   "metadata": {
    "jp-MarkdownHeadingCollapsed": true,
    "tags": []
   },
   "source": [
    "### Split into Test Train and Convert to Pandas"
   ]
  },
  {
   "cell_type": "code",
   "execution_count": null,
   "id": "814370c3-e5ea-4f1c-8322-02e710f7f93d",
   "metadata": {
    "tags": []
   },
   "outputs": [],
   "source": [
    "pdf = df1.toPandas()"
   ]
  },
  {
   "cell_type": "code",
   "execution_count": null,
   "id": "ce22d3da-5a3e-410b-98d2-01659a138eaf",
   "metadata": {
    "tags": []
   },
   "outputs": [],
   "source": [
    "pdf.head(9)"
   ]
  },
  {
   "cell_type": "code",
   "execution_count": null,
   "id": "4f727cfe-e38b-480c-bd97-71ad60ffe9c3",
   "metadata": {
    "tags": []
   },
   "outputs": [],
   "source": [
    "from sklearn.model_selection import train_test_split\n",
    "\n",
    "train, test = train_test_split(pdf, test_size=0.1)"
   ]
  },
  {
   "cell_type": "code",
   "execution_count": null,
   "id": "6639e378-d7cf-4973-aef3-77165e17f34b",
   "metadata": {
    "tags": []
   },
   "outputs": [],
   "source": [
    "train.head(3)"
   ]
  },
  {
   "cell_type": "markdown",
   "id": "a45b39ff-2158-46a4-a7bc-b22196ee21e4",
   "metadata": {
    "tags": []
   },
   "source": [
    "### Train Model with Spark to Pandas"
   ]
  },
  {
   "cell_type": "code",
   "execution_count": null,
   "id": "1cb2da68-a910-4413-9fa3-a4e9a5286a79",
   "metadata": {
    "tags": []
   },
   "outputs": [],
   "source": [
    "!pip install tensorflow==2.11.0"
   ]
  },
  {
   "cell_type": "code",
   "execution_count": null,
   "id": "b4179904-d2e8-4f66-b079-38dbc5b8e89b",
   "metadata": {
    "tags": []
   },
   "outputs": [],
   "source": [
    "!pip install tensorflow_decision_forests"
   ]
  },
  {
   "cell_type": "code",
   "execution_count": null,
   "id": "c9911814-d0bc-47f9-a421-eb4cfdc0fa67",
   "metadata": {
    "tags": []
   },
   "outputs": [],
   "source": [
    "import tensorflow as tf"
   ]
  },
  {
   "cell_type": "code",
   "execution_count": null,
   "id": "aaad5d38-3486-4960-be9f-f11a672c7686",
   "metadata": {
    "tags": []
   },
   "outputs": [],
   "source": [
    "import tensorflow_decision_forests as tfdf\n",
    "import pandas as pd\n",
    "\n",
    "# Load a dataset in a Pandas dataframe.\n",
    "\n",
    "# Convert the dataset into a TensorFlow dataset.\n",
    "train_ds = tfdf.keras.pd_dataframe_to_tf_dataset(train, label=\"label\")\n",
    "test_ds = tfdf.keras.pd_dataframe_to_tf_dataset(test, label=\"label\")"
   ]
  },
  {
   "cell_type": "code",
   "execution_count": null,
   "id": "5b5792f5-4e0c-4387-b75b-347ac65f7734",
   "metadata": {
    "tags": []
   },
   "outputs": [],
   "source": [
    "test.shape"
   ]
  },
  {
   "cell_type": "code",
   "execution_count": null,
   "id": "c4504e0c-9cd6-442d-9557-ace0b75e1208",
   "metadata": {
    "tags": []
   },
   "outputs": [],
   "source": [
    "# Train a Random Forest model.\n",
    "model = tfdf.keras.RandomForestModel()\n",
    "model.fit(train_ds)"
   ]
  },
  {
   "cell_type": "code",
   "execution_count": null,
   "id": "4d82efa6-bbcc-40ee-8644-ac57b1c7e48a",
   "metadata": {
    "tags": []
   },
   "outputs": [],
   "source": [
    "# Summary of the model structure.\n",
    "model.summary()\n",
    "\n",
    "# Evaluate the model.\n",
    "model.evaluate(test_ds)\n",
    "\n",
    "# Export the model to a SavedModel.\n",
    "model.save(\"/home/jovyan/notebooks/modelv3\")"
   ]
  },
  {
   "cell_type": "markdown",
   "id": "cf29f9c2-d44e-4a1d-8fec-db819136fb4e",
   "metadata": {
    "tags": []
   },
   "source": [
    "### Test Spark Pandas Model"
   ]
  },
  {
   "cell_type": "code",
   "execution_count": null,
   "id": "497328dd-df88-4771-b837-d60b6820a771",
   "metadata": {
    "tags": []
   },
   "outputs": [],
   "source": [
    "testdf = spark.read.options(delimiter='\\t').csv(\"gs://bci_bucket/data/takeoff/BrainFlow-RAW_Recordings_takeoff_4.csv\", inferSchema='true')"
   ]
  },
  {
   "cell_type": "code",
   "execution_count": null,
   "id": "ab68edbe-897e-435e-b4dd-512064c50b47",
   "metadata": {
    "tags": []
   },
   "outputs": [],
   "source": [
    "tdf = testdf.toPandas()"
   ]
  },
  {
   "cell_type": "code",
   "execution_count": null,
   "id": "60e5e4fc-9555-49ab-b835-80be5838430b",
   "metadata": {
    "tags": []
   },
   "outputs": [],
   "source": [
    "tdf.head(2)"
   ]
  },
  {
   "cell_type": "code",
   "execution_count": null,
   "id": "9b844dbf-14e8-4f1f-8ea7-cf7d7d544ff0",
   "metadata": {
    "tags": []
   },
   "outputs": [],
   "source": [
    "!pip show tensorflow_decision_forests"
   ]
  },
  {
   "cell_type": "code",
   "execution_count": null,
   "id": "f55b973b-9726-4f86-8068-b0bc9f49b20c",
   "metadata": {
    "tags": []
   },
   "outputs": [],
   "source": [
    "import pandas as pd\n",
    "import tensorflow as tf \n",
    "import tensorflow_decision_forests as tfdf"
   ]
  },
  {
   "cell_type": "code",
   "execution_count": null,
   "id": "059e5b4d-1d53-4898-b9ca-b1157e21026b",
   "metadata": {
    "tags": []
   },
   "outputs": [],
   "source": [
    "new_model = tf.keras.models.load_model(\"/home/jovyan/notebooks/modelv3\")"
   ]
  },
  {
   "cell_type": "code",
   "execution_count": null,
   "id": "e9d22789-6e26-4a91-8cad-0a83e7631b5b",
   "metadata": {
    "tags": []
   },
   "outputs": [],
   "source": [
    "idk = tfdf.keras.pd_dataframe_to_tf_dataset(tdf)"
   ]
  },
  {
   "cell_type": "code",
   "execution_count": null,
   "id": "df9b41d0-3c1e-49ed-91d2-afeee12dee50",
   "metadata": {
    "tags": []
   },
   "outputs": [],
   "source": [
    "idk"
   ]
  },
  {
   "cell_type": "code",
   "execution_count": null,
   "id": "5177d5f9-7292-48bd-846f-e0ea9c4f9ebf",
   "metadata": {
    "tags": []
   },
   "outputs": [],
   "source": [
    "labels = ['backward', 'down', 'forward',\n",
    "          'land', 'left', 'right', 'takeoff', 'up']"
   ]
  },
  {
   "cell_type": "code",
   "execution_count": null,
   "id": "73c5bf57-cf3b-4090-867f-855c606b4f30",
   "metadata": {
    "tags": []
   },
   "outputs": [],
   "source": [
    "prediction = np.argmax(prediction, 1)"
   ]
  },
  {
   "cell_type": "code",
   "execution_count": null,
   "id": "56fc58ec-4844-4ed0-b311-a754d01f9402",
   "metadata": {},
   "outputs": [],
   "source": [
    "predicted_label = labels[prediction[0]]\n",
    "predicted_label"
   ]
  }
 ],
 "metadata": {
  "kernelspec": {
   "display_name": "Python 3 (ipykernel)",
   "language": "python",
   "name": "python3"
  },
  "language_info": {
   "codemirror_mode": {
    "name": "ipython",
    "version": 3
   },
   "file_extension": ".py",
   "mimetype": "text/x-python",
   "name": "python",
   "nbconvert_exporter": "python",
   "pygments_lexer": "ipython3",
   "version": "3.10.10"
  }
 },
 "nbformat": 4,
 "nbformat_minor": 5
}
